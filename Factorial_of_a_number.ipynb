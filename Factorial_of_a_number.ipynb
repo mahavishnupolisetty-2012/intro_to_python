{
 "cells": [
  {
   "cell_type": "code",
   "execution_count": 1,
   "id": "0a51d1a0",
   "metadata": {},
   "outputs": [
    {
     "name": "stdout",
     "output_type": "stream",
     "text": [
      "enter the number: 3\n",
      "factorial of the entered number is: \n",
      "6\n"
     ]
    }
   ],
   "source": [
    "n = int(input(\"enter the number: \"))\n",
    "fact=1\n",
    "while(n>0):\n",
    "    fact=fact*n\n",
    "    n=n-1\n",
    "print(\"factorial of the entered number is: \")\n",
    "print(fact)"
   ]
  },
  {
   "cell_type": "markdown",
   "id": "28d5d2cc",
   "metadata": {},
   "source": [
    "###### sum of odd numbers"
   ]
  },
  {
   "cell_type": "code",
   "execution_count": 8,
   "id": "880d3c6b",
   "metadata": {},
   "outputs": [
    {
     "name": "stdout",
     "output_type": "stream",
     "text": [
      "enter the number: 100\n",
      "sum of odd numbers for the entered number is: \n",
      "2500\n"
     ]
    }
   ],
   "source": [
    "m = int(input(\"enter the number: \"))\n",
    "fact=0\n",
    "for number in range (1,m+1):\n",
    "    if number%2 != 0:\n",
    "        fact = fact +number\n",
    "print(\"sum of odd numbers for the entered number is: \")\n",
    "print(fact)"
   ]
  },
  {
   "cell_type": "markdown",
   "id": "4ea2a4b5",
   "metadata": {},
   "source": [
    "#### "
   ]
  }
 ],
 "metadata": {
  "kernelspec": {
   "display_name": "Python 3",
   "language": "python",
   "name": "python3"
  },
  "language_info": {
   "codemirror_mode": {
    "name": "ipython",
    "version": 3
   },
   "file_extension": ".py",
   "mimetype": "text/x-python",
   "name": "python",
   "nbconvert_exporter": "python",
   "pygments_lexer": "ipython3",
   "version": "3.8.8"
  }
 },
 "nbformat": 4,
 "nbformat_minor": 5
}
