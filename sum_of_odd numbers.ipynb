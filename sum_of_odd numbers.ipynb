{
 "cells": [
  {
   "cell_type": "markdown",
   "id": "64efe96d",
   "metadata": {},
   "source": [
    "###### Sum of odd numbers"
   ]
  },
  {
   "cell_type": "code",
   "execution_count": 1,
   "id": "f144c5ac",
   "metadata": {},
   "outputs": [
    {
     "name": "stdout",
     "output_type": "stream",
     "text": [
      "enter the number: 99\n",
      "sum of odd numbers for the entered number is: \n",
      "2500\n"
     ]
    }
   ],
   "source": [
    "m = int(input(\"enter the number: \"))\n",
    "fact=0\n",
    "for number in range (1,m+1):\n",
    "    if number%2 != 0:\n",
    "        fact = fact +number\n",
    "print(\"sum of odd numbers for the entered number is: \")\n",
    "print(fact)"
   ]
  },
  {
   "cell_type": "code",
   "execution_count": null,
   "id": "f4aed3f6",
   "metadata": {},
   "outputs": [],
   "source": []
  }
 ],
 "metadata": {
  "kernelspec": {
   "display_name": "Python 3",
   "language": "python",
   "name": "python3"
  },
  "language_info": {
   "codemirror_mode": {
    "name": "ipython",
    "version": 3
   },
   "file_extension": ".py",
   "mimetype": "text/x-python",
   "name": "python",
   "nbconvert_exporter": "python",
   "pygments_lexer": "ipython3",
   "version": "3.8.8"
  }
 },
 "nbformat": 4,
 "nbformat_minor": 5
}
