{
 "cells": [
  {
   "cell_type": "markdown",
   "id": "dbeb3709",
   "metadata": {},
   "source": [
    "## Intro To Python\n",
    "###### Data Camp"
   ]
  },
  {
   "cell_type": "code",
   "execution_count": 1,
   "id": "3a6fee3b",
   "metadata": {},
   "outputs": [
    {
     "data": {
      "text/plain": [
       "18"
      ]
     },
     "execution_count": 1,
     "metadata": {},
     "output_type": "execute_result"
    }
   ],
   "source": [
    "6 * 3"
   ]
  },
  {
   "cell_type": "code",
   "execution_count": 2,
   "id": "e9086223",
   "metadata": {},
   "outputs": [
    {
     "name": "stdout",
     "output_type": "stream",
     "text": [
      "0.625\n"
     ]
    }
   ],
   "source": [
    "# Example, do not modify!\n",
    "print(5 / 8)"
   ]
  },
  {
   "cell_type": "code",
   "execution_count": 3,
   "id": "17f4a7ea",
   "metadata": {},
   "outputs": [
    {
     "name": "stdout",
     "output_type": "stream",
     "text": [
      "17\n"
     ]
    }
   ],
   "source": [
    "# Print the sum of 7 and 10\n",
    "print( 7 + 10)"
   ]
  },
  {
   "cell_type": "code",
   "execution_count": 4,
   "id": "9744e03c",
   "metadata": {},
   "outputs": [
    {
     "name": "stdout",
     "output_type": "stream",
     "text": [
      "0\n"
     ]
    }
   ],
   "source": [
    "print(5 - 5)"
   ]
  },
  {
   "cell_type": "markdown",
   "id": "c119110e",
   "metadata": {},
   "source": [
    "* Python is a pretty versatile language. For which applications can you use Python?\n",
    "\n",
    "    * You want to do some quick calculations.\n",
    "\n",
    "    * For your new business, you want to develop a database-driven website. \n",
    "    * Your boss asks you to clean and analyze the results of the latest    satisfaction survey."
   ]
  },
  {
   "cell_type": "markdown",
   "id": "5333cdff",
   "metadata": {},
   "source": [
    "* Python is perfectly suited to do basic calculations. Apart from addition, subtraction, multiplication and division, there is also support for more advanced operations such as:\n",
    "\n",
    "* Exponentiation: ** This operator raises the number to its left to the power of the number to its right. For example 4**2 will give 16.\n",
    "\n",
    "* Modulo: %. This operator returns the remainder of the division of the number to the left by the number on its right. For example 18 % 7 equals 4."
   ]
  },
  {
   "cell_type": "code",
   "execution_count": 5,
   "id": "f739cd26",
   "metadata": {},
   "outputs": [
    {
     "name": "stdout",
     "output_type": "stream",
     "text": [
      "15\n",
      "5.0\n",
      "4\n",
      "16\n",
      "194.87171000000012\n"
     ]
    }
   ],
   "source": [
    "# Multiplication, division, modulo, and exponentiation\n",
    "print(3 * 5)\n",
    "print(10 / 2)\n",
    "print(18 % 7)\n",
    "print(4 ** 2)\n",
    "\n",
    "# How much is your $100 worth after 7 years?\n",
    "print(100 * (1.1 ** 7)) "
   ]
  },
  {
   "cell_type": "markdown",
   "id": "77f0bc8d",
   "metadata": {},
   "source": [
    "###### Variable Assignment"
   ]
  },
  {
   "cell_type": "markdown",
   "id": "758b081a",
   "metadata": {},
   "source": [
    "* In Python, a variable allows you to refer to a value with a name. To create a variable use =, like this example: x = 5\n",
    "* You can now use the name of this variable, x, instead of the actual value, 5.\n",
    "* Remember, = in Python means assignment, it doesn't test equality!"
   ]
  },
  {
   "cell_type": "code",
   "execution_count": 6,
   "id": "57b5d216",
   "metadata": {},
   "outputs": [
    {
     "name": "stdout",
     "output_type": "stream",
     "text": [
      "100\n"
     ]
    }
   ],
   "source": [
    "# Create a variable savings\n",
    "savings = 100\n",
    "\n",
    "# Print out savings\n",
    "print(savings)"
   ]
  },
  {
   "cell_type": "markdown",
   "id": "07e78690",
   "metadata": {},
   "source": [
    "###### Calculations With Variables"
   ]
  },
  {
   "cell_type": "code",
   "execution_count": 7,
   "id": "82936bb3",
   "metadata": {},
   "outputs": [
    {
     "name": "stdout",
     "output_type": "stream",
     "text": [
      "194.87171000000012\n"
     ]
    }
   ],
   "source": [
    "# assigning the variables for the previous calculation\n",
    "# Create a variable savings\n",
    "savings = 100\n",
    "\n",
    "# Create a variable growth_multiplier\n",
    "growth_multiplier = 1.1\n",
    "\n",
    "# creating a variable for time period\n",
    "years = 7\n",
    "\n",
    "# Calculate result\n",
    "result = savings * (growth_multiplier ** years)\n",
    "\n",
    "# Print out result\n",
    "print(result)"
   ]
  },
  {
   "cell_type": "markdown",
   "id": "916b3ebf",
   "metadata": {},
   "source": [
    "* int, or integer: a number without a fractional part. savings, with the value 100, is an example of an integer.\n",
    "* float, or floating point: a number that has both an integer and fractional part, separated by a point. growth_multiplier, with the value 1.1, is an example of a float.\n",
    "* Next to numerical data types, there are two other very common data types:\n",
    "          1) str, or string: a type to represent text. You can use single or  double quotes to build a string.\n",
    "          2) bool, or boolean: a type to represent logical values. Can only be True or False (the capitalization is important!).\n",
    "          \n"
   ]
  },
  {
   "cell_type": "markdown",
   "id": "7a2497ff",
   "metadata": {},
   "source": [
    "###### Other variable types\n"
   ]
  },
  {
   "cell_type": "code",
   "execution_count": 8,
   "id": "75946ae4",
   "metadata": {},
   "outputs": [],
   "source": [
    "# Create a variable desc and assign a value compound interest\n",
    "desc = \"compound interest\"\n",
    "\n",
    "# Create a variable profitable and pass a boolean value\n",
    "profitable = True"
   ]
  },
  {
   "cell_type": "markdown",
   "id": "f6147d1f",
   "metadata": {},
   "source": [
    "###### Guess the type\n",
    "\n",
    "* To find out the type of a value or a variable that refers to that value, you can use the type() function. Suppose you've defined a variable a, but you forgot the type of this variable. To determine the type of a, simply execute: type(a)\n"
   ]
  },
  {
   "cell_type": "code",
   "execution_count": 9,
   "id": "70f581a7",
   "metadata": {},
   "outputs": [
    {
     "data": {
      "text/plain": [
       "float"
      ]
     },
     "execution_count": 9,
     "metadata": {},
     "output_type": "execute_result"
    }
   ],
   "source": [
    "type(growth_multiplier)"
   ]
  },
  {
   "cell_type": "code",
   "execution_count": 10,
   "id": "4d9a33ea",
   "metadata": {},
   "outputs": [
    {
     "data": {
      "text/plain": [
       "int"
      ]
     },
     "execution_count": 10,
     "metadata": {},
     "output_type": "execute_result"
    }
   ],
   "source": [
    "type(years)"
   ]
  },
  {
   "cell_type": "markdown",
   "id": "f9a91565",
   "metadata": {},
   "source": [
    "###### Operations with other types\n",
    "\n",
    "When you sum two strings, for example, you'll get different behavior than when you sum two integers or two booleans."
   ]
  },
  {
   "cell_type": "code",
   "execution_count": 11,
   "id": "55640abf",
   "metadata": {},
   "outputs": [
    {
     "name": "stdout",
     "output_type": "stream",
     "text": [
      "110.00000000000001\n"
     ]
    }
   ],
   "source": [
    "# Calculate the product of savings and growth_multiplier. Store the result in year1.\n",
    "savings = 100\n",
    "growth_multiplier = 1.1\n",
    "desc = \"compound interest\"\n",
    "\n",
    "# Assign product of savings and growth_multiplier to year1\n",
    "year1 = savings * growth_multiplier\n",
    "print(year1)"
   ]
  },
  {
   "cell_type": "code",
   "execution_count": 12,
   "id": "e4488806",
   "metadata": {},
   "outputs": [
    {
     "name": "stdout",
     "output_type": "stream",
     "text": [
      "<class 'float'>\n"
     ]
    }
   ],
   "source": [
    "# Find out by printing out the type of year1\n",
    "print(type(year1))"
   ]
  },
  {
   "cell_type": "code",
   "execution_count": 13,
   "id": "98e22ad0",
   "metadata": {},
   "outputs": [
    {
     "name": "stdout",
     "output_type": "stream",
     "text": [
      "compound interestcompound interest\n"
     ]
    }
   ],
   "source": [
    "# Calculate the sum of desc and desc and store the result in a new variable doubledesc.\n",
    "# Print out doubledesc. Did you expect this?\n",
    "# Assign sum of desc and desc to doubledesc\n",
    "doubledesc = desc + desc\n",
    "\n",
    "# Print out doubledesc\n",
    "print(doubledesc)\n"
   ]
  },
  {
   "cell_type": "markdown",
   "id": "86e03d2e",
   "metadata": {},
   "source": [
    "###### Type conversion\n",
    "\n",
    "* Using the + operator to paste together two strings can be very useful in building custom messages.\n",
    "\n",
    "* Suppose, for example, that you've calculated the return of your investment and want to summarize the results in a string.\n",
    "        Assuming the integer savings and float result are defined,"
   ]
  },
  {
   "cell_type": "markdown",
   "id": "5ea91650",
   "metadata": {},
   "source": [
    "* This will not work, though, as you cannot simply sum strings and integers/floats.\n",
    "\n",
    "* To fix the error, you'll need to explicitly convert the types of your variables. More specifically, you'll need str(), to convert a value into a string. str(savings), for example, will convert the integer savings to a string.\n",
    "\n",
    "* Similar functions such as int(), float() and bool() will help you convert Python values into any type."
   ]
  },
  {
   "cell_type": "code",
   "execution_count": 14,
   "id": "067a7537",
   "metadata": {},
   "outputs": [
    {
     "name": "stdout",
     "output_type": "stream",
     "text": [
      "I started with $100 and now have $194.87171000000012. Awesome!\n"
     ]
    }
   ],
   "source": [
    "# Fix the code such that the printout runs without errors; use the function str() to convert the variables to strings.\n",
    "# Convert the variable pi_string to a float and store this float as a new variable, pi_float.\n",
    "\n",
    "# Definition of savings and result\n",
    "savings = 100\n",
    "result = 100 * 1.10 ** 7\n",
    "\n",
    "# Fix the printout\n",
    "print(\"I started with $\" + str(savings) + \" and now have $\" + str(result) + \". Awesome!\")\n",
    "\n",
    "# Definition of pi_string\n",
    "pi_string = \"3.1415926\"\n",
    "\n",
    "# Convert pi_string into float: pi_float\n",
    "pi_float = float(pi_string)"
   ]
  },
  {
   "cell_type": "code",
   "execution_count": 15,
   "id": "7ba6c7e5",
   "metadata": {},
   "outputs": [
    {
     "data": {
      "text/plain": [
       "1"
      ]
     },
     "execution_count": 15,
     "metadata": {},
     "output_type": "execute_result"
    }
   ],
   "source": [
    "# boolean type mathematical operations\n",
    "True + False"
   ]
  },
  {
   "cell_type": "code",
   "execution_count": null,
   "id": "86084ee8",
   "metadata": {},
   "outputs": [],
   "source": []
  }
 ],
 "metadata": {
  "kernelspec": {
   "display_name": "Python 3 (ipykernel)",
   "language": "python",
   "name": "python3"
  },
  "language_info": {
   "codemirror_mode": {
    "name": "ipython",
    "version": 3
   },
   "file_extension": ".py",
   "mimetype": "text/x-python",
   "name": "python",
   "nbconvert_exporter": "python",
   "pygments_lexer": "ipython3",
   "version": "3.9.7"
  }
 },
 "nbformat": 4,
 "nbformat_minor": 5
}
